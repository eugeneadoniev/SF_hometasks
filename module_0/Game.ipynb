{
 "cells": [
  {
   "cell_type": "code",
   "execution_count": 7,
   "metadata": {},
   "outputs": [
    {
     "name": "stdout",
     "output_type": "stream",
     "text": [
      "Ваш алгоритм угадывает число в среднем за 5 попыток\n"
     ]
    },
    {
     "data": {
      "text/plain": [
       "5"
      ]
     },
     "execution_count": 7,
     "metadata": {},
     "output_type": "execute_result"
    }
   ],
   "source": [
    "import numpy as np\n",
    "\n",
    "\n",
    "def center_index(any_list):\n",
    "    '''Find the index of the element in the middle of the given list'''\n",
    "    return int(len(any_list) / 2)\n",
    "\n",
    "\n",
    "def game_guess_number(number):\n",
    "    '''Search for a hidden number from 0 to 100. The algorithm is based\n",
    "       on halving the length of the list of assumed numbers with each\n",
    "       iteration.\n",
    "       As a result, the length of the entire list is reduced to\n",
    "       one number, which is the required number.\n",
    "    '''\n",
    "    count = 1\n",
    "    predict_list = [x for x in range(1, 101)]\n",
    "    index = center_index(predict_list)\n",
    "    predict = predict_list[index]\n",
    "\n",
    "    while number != predict:\n",
    "        count += 1\n",
    "        if number > predict:\n",
    "            predict_list = predict_list[(index + 1) :]\n",
    "        elif number < predict:\n",
    "            predict_list = predict_list[: index]\n",
    "        index = center_index(predict_list)\n",
    "        predict = predict_list[index]\n",
    "\n",
    "    return(count)\n",
    "\n",
    "\n",
    "def score_game(game_core):\n",
    "    '''Запускаем игру 1000 раз, чтобы узнать, как быстро игра угадывает число'''\n",
    "    count_ls = []\n",
    "    np.random.seed(1)  # фиксируем RANDOM SEED, чтобы ваш эксперимент был воспроизводим!\n",
    "    random_array = np.random.randint(1,101, size=(1000))\n",
    "    for number in random_array:\n",
    "        count_ls.append(game_core(number))\n",
    "    score = int(np.mean(count_ls))\n",
    "    print(f\"Ваш алгоритм угадывает число в среднем за {score} попыток\")\n",
    "    \n",
    "    return(score)\n",
    "\n",
    "\n",
    "# Let's check this algorythm\n",
    "score_game(game_guess_number)"
   ]
  },
  {
   "cell_type": "code",
   "execution_count": null,
   "metadata": {},
   "outputs": [],
   "source": []
  },
  {
   "cell_type": "code",
   "execution_count": null,
   "metadata": {},
   "outputs": [],
   "source": []
  }
 ],
 "metadata": {
  "kernelspec": {
   "display_name": "Python 3",
   "language": "python",
   "name": "python3"
  },
  "language_info": {
   "codemirror_mode": {
    "name": "ipython",
    "version": 3
   },
   "file_extension": ".py",
   "mimetype": "text/x-python",
   "name": "python",
   "nbconvert_exporter": "python",
   "pygments_lexer": "ipython3",
   "version": "3.8.3"
  }
 },
 "nbformat": 4,
 "nbformat_minor": 4
}
